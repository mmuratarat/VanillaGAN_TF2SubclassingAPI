{
 "cells": [
  {
   "cell_type": "markdown",
   "id": "5f3b9e73-bfdd-479a-add5-cdd0eb5e2ba4",
   "metadata": {},
   "source": [
    "Bu eğitici, bir Üretken Çekişmeli Ağı (Deep Convolutional Generative Adversarial Network - DCGAN) sıfırdan yazarak, el yazısı rakamların görüntülerinin nasıl oluşturulacağını TensorFlow kütüphanesi kullanarak göstermektedir. İlk defa https://arxiv.org/abs/1406.2661 bağlantısında bulunan makalede önerilen bir GAN modeli olan Vanilla GAN algoritmasını programlayacağız!\n",
    "\n",
    "İlk olarak, ihtiyacımız olan temel kütüphaneleri içe aktaracağız. Ağı ve çekişmeli süreçleri oluşturmak için TensorFlow 2.0'ı, gürültüyü oluşturmak için NumPy'yi ve görüntüleri kaydetmek için matplotlib'i kullanacağız. Ayrıca TensorFlow 2.0 kullandığınızdan emin olun — aşağıdaki kod daha eski bir TensorFlow versiyonuyla çalışmayacaktır."
   ]
  },
  {
   "cell_type": "code",
   "execution_count": 1,
   "id": "8d5234cf-941a-4cec-bd89-c3cb41aeee45",
   "metadata": {},
   "outputs": [
    {
     "name": "stdout",
     "output_type": "stream",
     "text": [
      "2.5.0\n"
     ]
    }
   ],
   "source": [
    "import tensorflow as tf\n",
    "from tensorflow import keras\n",
    "\n",
    "print(tf.__version__)\n",
    "\n",
    "import numpy as np\n",
    "import matplotlib.pyplot as plt\n",
    "import time"
   ]
  },
  {
   "cell_type": "markdown",
   "id": "ec948434-66a6-4983-b2bf-bb15abcdc8aa",
   "metadata": {},
   "source": [
    "## Veri kümesini yükleme ve hazırlama\n",
    "\n",
    "Burada kullanacağımız veri seti, her biri $28\\times 28$ piksel boyutunda, elle yazılmış rakamlardan oluşan yaklaşık $60.000$ siyah beyaz görüntüden oluşan Yann LeCunn'un [MNIST veri setidir](http://yann.lecun.com/exdb/mnist/). Bu veri seti, GAN'ların eğitimi için [faydalı olduğu kanıtlanmış bazı faydalı \"hack'lere\" göre](https://github.com/soumith/ganhacks) ön işleme tabi tutulacaktır. \n",
    "\n",
    "Üreteci ve Ayrıştırıcı sinir ağlarını eğitmek için MNIST veri setini kullanacaksınız. Üretici, MNIST verilerine benzeyen el yazısı rakamları üretmeyi öğrenecektir.\n",
    "\n",
    "İkinci olarak, TensorFlow kütüphanesinde bulunan yerleşik veri kümesini Python ortamına okutalım:"
   ]
  },
  {
   "cell_type": "code",
   "execution_count": 2,
   "id": "30cd7a03-5139-4487-8613-3f4410e3737f",
   "metadata": {},
   "outputs": [],
   "source": [
    "mnist = keras.datasets.mnist\n",
    "(train_images, train_labels), (test_images, test_labels) = mnist.load_data()"
   ]
  },
  {
   "cell_type": "code",
   "execution_count": 3,
   "id": "1e75806b-ab1d-4ee5-a270-9b3e1b0b5c81",
   "metadata": {},
   "outputs": [
    {
     "name": "stdout",
     "output_type": "stream",
     "text": [
      "Eğitim örneklerinin şekli: (60000, 28, 28)\n"
     ]
    }
   ],
   "source": [
    "print(f\"Eğitim örneklerinin şekli: {train_images.shape}\")"
   ]
  },
  {
   "cell_type": "code",
   "execution_count": 24,
   "id": "a5101e09-24db-4c0d-8035-8a4bec4ff3e3",
   "metadata": {},
   "outputs": [
    {
     "data": {
      "image/png": "[encoded data removed]",
      "text/plain": [
       "<Figure size 432x288 with 1 Axes>"
      ]
     },
     "metadata": {
      "needs_background": "light"
     },
     "output_type": "display_data"
    }
   ],
   "source": [
    "plt.imshow(train_images[5], cmap = \"gray\")\n",
    "plt.savefig(\"2.png\")"
   ]
  },
  {
   "cell_type": "markdown",
   "id": "dad8a62f-427f-453e-a2ca-b6202ef87c2e",
   "metadata": {},
   "source": [
    "Daha sonra, uygulama boyunca ihtiyaç duyduğumuz bazı global değişkenleri tanımlamamız gerekiyor. `batch_size` parametresi, sinir ağlarında aynı anda kaç örneğin beslendiğini tanımlar. Mükemmel karıştırma (shuffle) için `buffer_size` parametresini eğitim veri setinin uzunluğuna eşit olarak ayarladık. Farklı bir mini-yığın büyüklüğü veya veri seti kullanmak istiyorsanız, bu değişkenleri ayarlamayı unutmayınız\n",
    "\n",
    "Burada aynı zamanda, yoksa, eğitim sırasında Üretici sinir ağının çıktısını `output_dir` isimli dizine kaydedeceğiz. böylelikle, eğitim ilerledikçe, parametreleri değişen Üretici sinir ağının gerçek görüntülere benzer resimler elde edip etmediğini kontrol edebileceğiz. "
   ]
  },
  {
   "cell_type": "code",
   "execution_count": 5,
   "id": "0ccd8463-4043-4332-ac04-5e194a5cc923",
   "metadata": {},
   "outputs": [],
   "source": [
    "buffer_size= 60000\n",
    "batch_size = 256\n",
    "output_dir = \"img\" \n",
    "\n",
    "# Just to make sure the output directory exists..\n",
    "import os\n",
    "if not os.path.exists(output_dir ):\n",
    "    os.makedirs(output_dir )"
   ]
  },
  {
   "cell_type": "markdown",
   "id": "449acddc-e6a5-45d8-8301-c29b185abc5b",
   "metadata": {},
   "source": [
    "Okuttuğumuz eğitim verilerini önce bir ön işleme tabii tutalım. Spesifik olarak, $[0, 255]$ aralığındaki girdi değerleri $-1$ ile $1$ arasında normalize edelim. Bu, $0$ değerinin $-1$ ile, $255$ değerinin $1$ ile eşleneceği ve benzer şekilde aradaki tüm değerlerin $[-1, 1]$ aralığında bir değer alacağı anlamına gelir.\n",
    "\n",
    "Ön-işlemeden sonra, sinir ağlarını gerçekleştirmeden koymadan önce, verileri bir `tf.data.Dataset` nesnesine gönderelim. Bir `tf.data.Dataset`, her elemanın bir veya daha fazla Tensor nesnesi içerdiği bir elemanlar sekansını (sequence of elements) temsil eder. Bu `tf.data.Dataset`nesnesi, resimlerinizi toplu olarak depolamak ve daha sonra bu resimler üzerinde döngü (loop) gerçekleştirmek için bir yineleyici (iterator) olarak kullanılır."
   ]
  },
  {
   "cell_type": "code",
   "execution_count": 6,
   "id": "8b243657-4197-4a9d-8a9b-764716f2eab6",
   "metadata": {},
   "outputs": [
    {
     "name": "stderr",
     "output_type": "stream",
     "text": [
      "2022-01-18 20:49:21.982116: I tensorflow/core/platform/cpu_feature_guard.cc:142] This TensorFlow binary is optimized with oneAPI Deep Neural Network Library (oneDNN) to use the following CPU instructions in performance-critical operations:  AVX2 FMA\n",
      "To enable them in other operations, rebuild TensorFlow with the appropriate compiler flags.\n"
     ]
    }
   ],
   "source": [
    "train_images = train_images.reshape(train_images.shape[0], 28, 28, 1).astype('float32')\n",
    "train_images = (train_images - 127.5) / 127.5  # Görüntüleri [-1, 1] aralığına normalize edelim\n",
    "\n",
    "train_dataset = tf.data.Dataset.from_tensor_slices(train_images).shuffle(buffer_size).batch(batch_size)"
   ]
  },
  {
   "cell_type": "markdown",
   "id": "0d0e741f-3db3-46de-986d-ff6aa990abcc",
   "metadata": {},
   "source": [
    "Hem Üretici sinir ağını hem de Ayrıştırıcı sinir ağını oluşturmak için `tf.keras` Model Alt-sınıflama API'si (Model Subclasssing API) kullanacağız, bu da bize modelleri oluştururken biraz daha esneklik sağlayacaktır. Subclassing API kullanmak, hem ayrıştırıcı (discriminator) hem de Üretici (generator) için bir sınıf (class) oluşturacağımız anlamına gelir. Bu sınıfların kurucusunda (constructor) sinir ağlarının katmanlarını ve çağrı (call) metodunda modelin ileri beslemesini (forward pass) tanımlayacağız.\n",
    "\n",
    "## üretici Sinir Ağı\n",
    "\n",
    "Üretici sinir ağına, 100 boyutlu bir gürültüyü girdi olarak vereceğiz ve 784 boyutunda (düzleştirilmiş (flattened)) bir vektörü çıktı olarak alacağız. Analizin ilerleyen aşamasında bu çıktı vektörünü $28\\times 28$ boyutunda (görüntülerin orijinal boyutu) bir matrise yeniden şekillendireceğiz.\n",
    "\n",
    "Rastgele gürültü yaratmamıza izin veren bir fonksiyona da ihtiyacımız var. Rastgele gürültü, [bu bağlantıda](https://github.com/soumith/ganhacks) önerildiği gibi ortalama 0 ve varyans 1 olan normal bir dağılımdan örneklenecektir."
   ]
  },
  {
   "cell_type": "code",
   "execution_count": 7,
   "id": "ec259bc4-dac5-4f10-8f3a-5ddd722d5c4b",
   "metadata": {},
   "outputs": [],
   "source": [
    "class Generator(keras.Model):\n",
    "    \n",
    "    def __init__(self, random_noise_size = 100):\n",
    "        super().__init__(name='generator')\n",
    "        #layers\n",
    "        self.input_layer = keras.layers.Dense(units = random_noise_size)\n",
    "        self.dense_1 = keras.layers.Dense(units = 128)\n",
    "        self.leaky_1 =  keras.layers.LeakyReLU(alpha = 0.01)\n",
    "        self.dense_2 = keras.layers.Dense(units = 128)\n",
    "        self.leaky_2 = keras.layers.LeakyReLU(alpha = 0.01)\n",
    "        self.dense_3 = keras.layers.Dense(units = 256)\n",
    "        self.leaky_3 = keras.layers.LeakyReLU(alpha = 0.01)\n",
    "        self.output_layer = keras.layers.Dense(units=784, activation = \"tanh\")\n",
    "        \n",
    "    def call(self, input_tensor):\n",
    "        ## Definition of Forward Pass\n",
    "        x = self.input_layer(input_tensor)\n",
    "        x = self.dense_1(x)\n",
    "        x = self.leaky_1(x)\n",
    "        x = self.dense_2(x)\n",
    "        x = self.leaky_2(x)\n",
    "        x = self.dense_3(x)\n",
    "        x = self.leaky_3(x)\n",
    "        return  self.output_layer(x)\n",
    "    \n",
    "    def generate_noise(self,batch_size, random_noise_size):\n",
    "        return tf.random.normal(shape = (batch_size, random_noise_size), mean=0.0, stddev=1.0)"
   ]
  },
  {
   "cell_type": "markdown",
   "id": "5e1ac405-f93e-4990-81ab-953f81e4f1e2",
   "metadata": {},
   "source": [
    "### Sahte Bir Görüntü Oluşturma\n",
    "\n",
    "İlk olarak `Generator` sınıfı için bir örnek oluşturalım. Daha sonra, bir sahte resim örneği oluşturmak üzere, Normal dağılımdan bir gürültü yaratalım ve bu gürültüyü Üretici Sinir ağına bir kereliğe ileri besleyelim (one forward pass) ve çıktısını görüntüleyelim."
   ]
  },
  {
   "cell_type": "code",
   "execution_count": 8,
   "id": "0a01feb0-1ca5-48f8-8c24-4b84dead068d",
   "metadata": {},
   "outputs": [
    {
     "data": {
      "text/plain": [
       "<matplotlib.image.AxesImage at 0x7fddf0d725e0>"
      ]
     },
     "execution_count": 8,
     "metadata": {},
     "output_type": "execute_result"
    },
    {
     "data": {
      "image/png": "[encoded data removed]",
      "text/plain": [
       "<Figure size 432x288 with 1 Axes>"
      ]
     },
     "metadata": {
      "needs_background": "light"
     },
     "output_type": "display_data"
    }
   ],
   "source": [
    "generator = Generator()\n",
    "noise = tf.random.normal([1, 100])\n",
    "fake_image  = generator(noise, training=False)\n",
    "reshaped_fake_image = tf.reshape(fake_image, shape = (28,28))\n",
    "plt.imshow(reshaped_fake_image, cmap = \"gray\")"
   ]
  },
  {
   "cell_type": "markdown",
   "id": "d6f9e674-20b9-492e-acf5-f533ae538a55",
   "metadata": {},
   "source": [
    "## Optimizasyon\n",
    "\n",
    "Burada her iki sinir ağı için optimizasyon algoritması olarak Adam'ı kullanacağız. İstediğiniz diğer optimize edicileri kullanmaktan çekinmeyiniz. Öğrenme oranı olarak $0,0002$ kullanılmıştır. Önerilen bu öğrenme oranı, bu görev için mutlaka en uygun değer olmasa da, birkaç değerle test edildikten sonra elde edilmiştir."
   ]
  },
  {
   "cell_type": "code",
   "execution_count": 9,
   "id": "560a4d85-e74b-42ca-bb3f-458e9d59550b",
   "metadata": {},
   "outputs": [],
   "source": [
    "generator_optimizer = keras.optimizers.Adam(learning_rate=0.0002)\n",
    "discriminator_optimizer = keras.optimizers.RMSprop(learning_rate=0.0002)"
   ]
  },
  {
   "cell_type": "markdown",
   "id": "9476cf81-4a26-472b-ada7-446b23c2a06d",
   "metadata": {},
   "source": [
    "## Kayıp Fonksiyonları\n",
    "\n",
    "Bu kayıp fonksiyonunu kullanarak bir GAN modelinin kayıp fonksiyonunun nasıl bulunduğunu [bir önceki blog yazısında](https://mmuratarat.github.io/turkish/2022-01-16/GANs_in_details) göstermiştik:\n",
    "    \n",
    "$$\n",
    "\\min_{\\theta_{g}} \\max_{\\theta_{d}}\\,\\, V(G_{\\theta_{g}}, D_{\\theta_{d}}) = E_{x \\sim p_{data}} \\left[ \\log \\left( \\underbrace{D_{\\theta_{d}} (x)}_{\\text{gerçek veri $x$ için Ayrıştırıcı'nın çıktısı}} \\right) \\right] + E_{z \\sim p_{z}} \\left[ \\log \\left( 1 - \\underbrace{D_{\\theta_{d}} \\left( G_{\\theta_{g}}(z)\\right)}_{\\text{üretilmiş sahte veri $G_{\\theta_{g}} (z)$ için Ayrıştırıcı'nın çıktısı}} \\right) \\right] \n",
    "$$\n",
    "\n",
    "Bu görev için kullanacağımız kayıp fonksiyonu İkili Çapraz Entropi Kaybı (Binary Cross Entopy Loss) olarak adlandırılır. İkili çapraz entropi kayıp fonksiyonunun denklemi aşağıda verilmiştir:\n",
    "\n",
    "$$a\n",
    "L(\\theta) = - \\frac{1}{n} \\sum_{i=1}^{n}  \\left[y_{i} \\log (\\hat{y}_{i}) + (1-y_{i}) \\log (1- \\hat{y}_{i}) \\right]\n",
    "$$\n",
    "\n",
    "Burada, $\\hat{y}$, model tarafından tahmin edilen etikettir ve $y$, gerçek etikettir. Bu nedenle Hem Üretici hem de Ayrıştırıcı kayıp fonksiyonu için TensorFlow'un `tf.keras.losses.BinaryCrossentropy` fonksiyonunu kullanacağız. Spesifik olarak, her mini-yığın için hesaplanan kaybın ortalamasını alacağız.\n",
    "\n",
    "Yukarıdaki ikili çapraz entropi kaybı fonksiyonunda, $\\hat{y}_{i} = D_{\\theta_{d}} (x_{i})$ ve $y_{i} = 1$ olarak değiştirirsek, gerçek resimlere ait kaybı elde ederiz. Benzer şekilde, $\\hat{y}_{i} = D_{\\theta_{d}} \\left( G_{\\theta_{g}}(z_{i})\\right)$ ve $y_{i} = 0$ olarak değiştirirsek, sahte resimlere ait kaybı elde ederiz. Böylelikle Ayrıştırıcı için kayıp fonksiyonu şu şekil yazılabilir:\n",
    "\n",
    "$$\n",
    "\\frac{1}{n} \\sum_{i=1}^{n} \\left[ \\log \\left( D_{\\theta_{d}} (x_{i}) \\right) + \\log \\left(1 - D_{\\theta_{d}} \\left( G_{\\theta_{g}}(z_{i})\\right) \\right) \\right]\n",
    "$$\n",
    "\n",
    "Bir GAN modelinin matematiksel modelinden bahsettiğimiz [bir önceki blog yazısında](https://mmuratarat.github.io/turkish/2022-01-16/GANs_in_details) dediğimiz gibi Ayrıştırıcı kayıp fonksiyonu gradyan çıkış (gradient ascent) algoritması ile maksimize edilmelidir. Ancak, TensorFlow ve diğer bir çok Derin Öğrenme kütüphanesi, bir fonksiyonu maksimize etmek yerine, genellikle minimize eder. Bir fonksiyonu maksimize etmek, onun negatifini minimize etmeye eşdeğerdir. Ancak, yukarıda da görüleceği üzere, ikili çapraz entropi kayıp fonksiyonunun başında bir negatif (`-`) işareti vardır. Bu nedenle, Ayrıştırıcı kayıp fonksiyonunu minimize ederken endişelenmemize gerek yoktur.\n",
    "\n",
    "Üretici kayıp fonksiyonu ise aşağıdaki gibi verilmiştir:\n",
    "\n",
    "$$\n",
    "\\frac{1}{n} \\sum_{i=1}^{n} \\left[ \\log \\left(1 - D_{\\theta_{d}} \\left( G_{\\theta_{g}}(z_{i})\\right) \\right) \\right]\n",
    "$$\n",
    "\n",
    "[Bir önceki blog yazısında](https://mmuratarat.github.io/turkish/2022-01-16/GANs_in_details) söylediğimiz gibi, $\\log \\left(1 - D_{\\theta_{d}} \\left( G_{\\theta_{g}}(z_{i})\\right) \\right)$ fonksiyonunu minimize etmek yerine, $D_{\\theta_{d}} \\left( G_{\\theta_{g}}(z_{i}) \\right)$ fonksiyonunu maksimize ederek Üretici sinir ağını eğitmek, eğitimin başlarında çok daha güçlü gradyanlar sağlayacaktır. Bu nedenle, $D_{\\theta_{d}} \\left( G_{\\theta_{g}}(z_{i}) \\right)$ fonksiyonu gradyan çıkış (gradient ascent) algoritması ile maksimize edilmelidir. Yukarıda da bahsettiğimiz gibi, bir fonksiyonu maksimize etmek, onun negatifini minimize etmeye eşdeğerdir. İkili çapraz entropi kayıp fonksiyonunun başında bir negatif (`-`) işareti vardır. Bu nedenle, Üretici kayıp fonksiyonunu minimize ederken endişelenmemize gerek yoktur. Üretici tarafından üretilmiş resimlerin tahmini için $\\hat{y}_{i} = D_{\\theta_{d}} \\left( G_{\\theta_{g}}(z_{i})\\right)$ ve Üretici gerçek görüntüler ürettiğini düşündüğü için $y_{i} = 1$ olarak yukarıdaki ikili çapraz entropi kayığ fonksiyonunda yerine yazarsak, minimize edilecek kayıp fonksiyonu kolaylıkla bulunabilir:\n",
    "\n",
    "$$\n",
    "\\frac{1}{n} \\sum_{i=1}^{n} \\left[ \\log \\left(D_{\\theta_{d}} \\left( G_{\\theta_{g}}(z_{i})\\right) \\right) \\right]\n",
    "$$\n",
    "\n",
    "\n",
    "## Üretici Kayıp Fonksiyonu\n",
    "\n",
    "Burada önemli olan Üretici gerçek görüntüler ürettiğini düşündüğü için, burada önemli olan, sahte resimlerin Ayrıştırıcı sinir ağından çıktısı ve \"gerçek\" etiketlerin (yani $y=1$) işin içine dahil edilmesidir, bu nedenle, `tf.ones_like` fonksiyonu kullanılır. Burada, `tf.ones_like` fonksiyonu, girdiyle aynı şekle sahip \"birler\"den oluşan bir tensör oluşturur."
   ]
  },
  {
   "cell_type": "code",
   "execution_count": 10,
   "id": "2949a5b3-a0e3-4f1a-be53-b1c2d8de89c0",
   "metadata": {},
   "outputs": [],
   "source": [
    "cross_entropy = tf.keras.losses.BinaryCrossentropy(from_logits = True)\n",
    "\n",
    "def generator_objective(dx_of_gx):\n",
    "    # Labels are true here because generator thinks he produces real images. \n",
    "    return cross_entropy(tf.ones_like(dx_of_gx), dx_of_gx) "
   ]
  },
  {
   "cell_type": "markdown",
   "id": "6aaa51d2-c6fd-4766-bfb0-e7d1773a80b5",
   "metadata": {},
   "source": [
    "## Ayrıştırıcı Kayıp Fonksiyonu\n",
    "\n",
    "Burada önemli olan, gerçek resimlerin etiketlerinin 1, sahte resimlerin etiketlerinin 0 olmasıdır. Buna ek olarak, bu iki Ayrıştırıcı kaybı birlikte toplayarak, Ayrıştırıcı için toplam mini-yığın kaybını elde ederiz. Uygulamada, gradyanları ayrı ayrı hesaplayacağız ve ardından bu gradyanları birlikte güncelleyeceğiz.\n",
    "\n",
    "Ek olarak, aşırı uyumu (overfitting) engellemek için gerçek resimlere ait kayıp fonksiyonuna bir yumuşatma çarpanı(smoothing factor) ekliyoruz."
   ]
  },
  {
   "cell_type": "code",
   "execution_count": 11,
   "id": "95811be3-8193-49c0-b981-a9024ef9d162",
   "metadata": {},
   "outputs": [],
   "source": [
    "def discriminator_objective(d_x, g_z, smoothing_factor = 0.9):\n",
    "    \"\"\"\n",
    "    d_x = real output\n",
    "    g_z = fake output\n",
    "    \"\"\"\n",
    "    real_loss = cross_entropy(tf.ones_like(d_x) * smoothing_factor, d_x) # If we feed the discriminator with real images, we assume they all are the right pictures --> Because of that label == 1\n",
    "    fake_loss = cross_entropy(tf.zeros_like(g_z), g_z) # Each noise we feed in are fakes image --> Because of that labels are 0. \n",
    "    total_loss = real_loss + fake_loss\n",
    "    \n",
    "    return total_loss"
   ]
  },
  {
   "cell_type": "markdown",
   "id": "30db6631-f982-4482-9aa0-8e176309d65c",
   "metadata": {},
   "source": [
    "Ayrıştırıcı ağ, Üretici ağa benzer bir şekilde gerçekleştirilir. Tek fark, 784 ($28\\times 28 = 784$) boyutlu bir vektörü girdi olarak almamız ve girdinin sahte mi yoksa gerçek mi bir resim olduğunu bize söyleyen yalnızca bir nöron çıktısı vermemizdir."
   ]
  },
  {
   "cell_type": "code",
   "execution_count": 12,
   "id": "4926e161-d333-47bb-b56f-1b44ba87a084",
   "metadata": {},
   "outputs": [],
   "source": [
    "class Discriminator(keras.Model):\n",
    "    def __init__(self):\n",
    "        super().__init__(name = \"discriminator\")\n",
    "        \n",
    "        #Layers\n",
    "        self.input_layer = keras.layers.Flatten()\n",
    "        self.dense_1 = keras.layers.Dense(units = 128)\n",
    "        self.leaky_1 =  keras.layers.LeakyReLU(alpha = 0.01)\n",
    "        self.dense_2 = keras.layers.Dense(units = 128)\n",
    "        self.leaky_2 = keras.layers.LeakyReLU(alpha = 0.01)\n",
    "        self.dense_3 = keras.layers.Dense(units = 128)\n",
    "        self.leaky_3 = keras.layers.LeakyReLU(alpha = 0.01)\n",
    "        \n",
    "        self.logits = keras.layers.Dense(units = 1)  # Bu sinir hücresi, girdinin gerçek mi sahte mi olduğunu söyler.\n",
    "        \n",
    "    def call(self, input_tensor):\n",
    "          ## Definition of Forward Pass\n",
    "        x = self.input_layer(input_tensor)\n",
    "        x = self.dense_1(x)\n",
    "        x = self.leaky_1(x)\n",
    "        x = self.dense_2(x)\n",
    "        x = self.leaky_2(x)\n",
    "        x = self.dense_3(x)\n",
    "        x = self.leaky_3(x)\n",
    "        x = self.logits(x)\n",
    "        return x"
   ]
  },
  {
   "cell_type": "markdown",
   "id": "94fa0862-06b5-48b5-8a18-7f52ac9f41db",
   "metadata": {},
   "source": [
    "Şimdi `Discriminator` sınıfı için bir örnek oluşturalım:"
   ]
  },
  {
   "cell_type": "code",
   "execution_count": 13,
   "id": "d37bb978-a639-4f3a-b11e-b1ea2cae938b",
   "metadata": {},
   "outputs": [],
   "source": [
    "discriminator = Discriminator()"
   ]
  },
  {
   "cell_type": "markdown",
   "id": "b072cfd6-c455-426f-bb54-090fa7f3a208",
   "metadata": {},
   "source": [
    "Bir sonraki adım, tek bir eğitim adımında ne gerçekleşmesi gerektiğini tanımlamaktır. Üretici ve Ayrıştırıcı'nın gradyanlarını kullanarak her iki ağı da aynı anda eğitiyoruz. İlk olarak, daha önce tanımladığımız yığın büyüklüğüne (batch size) göre bir miktar gürültü üretilir. Daha sonra gerçek resmi ve sahte resmi Ayrıştırıcı'ya besliyoruz ve toplam kaybı hesaplıyoruz. Son adım olarak Üretici için aynısını yapıyoruz ve bu gradyanları uyguluyoruz:"
   ]
  },
  {
   "cell_type": "code",
   "execution_count": 14,
   "id": "102fee31-8b94-485f-a0f6-57cd5436fe28",
   "metadata": {},
   "outputs": [],
   "source": [
    "@tf.function()\n",
    "def training_step(generator: Generator, discriminator: Discriminator, images:np.ndarray , k:int =1, batch_size = 32):\n",
    "    for _ in range(k):\n",
    "         with tf.GradientTape() as gen_tape, tf.GradientTape() as disc_tape:\n",
    "            noise = generator.generate_noise(batch_size, 100) #Gürültü üret\n",
    "            g_z = generator(noise) # Bu gürültüyü Üretici sinir ağından geçir\n",
    "            d_x_true = discriminator(images) # Gerçek resimleri Ayrıştırıcı sinir ağından geçir\n",
    "            d_x_fake = discriminator(g_z) # Üretici çıktısını Ayrıştırıcı sinir ağından geçir\n",
    "\n",
    "            discriminator_loss = discriminator_objective(d_x_true, d_x_fake) # Ayrıştırıcı için kaybı hesapla\n",
    "            # Ayrıştırıcı'nın gradyanını ayarla\n",
    "            gradients_of_discriminator = disc_tape.gradient(discriminator_loss, discriminator.trainable_variables)\n",
    "            discriminator_optimizer.apply_gradients(zip(gradients_of_discriminator, discriminator.trainable_variables)) # Takes a list of gradient and variables pairs\n",
    "            \n",
    "              \n",
    "            generator_loss = generator_objective(d_x_fake) # Üretici için kaybı hesapla\n",
    "            # Üretici'nin gradyanını ayarla\n",
    "            gradients_of_generator = gen_tape.gradient(generator_loss, generator.trainable_variables)\n",
    "            generator_optimizer.apply_gradients(zip(gradients_of_generator, generator.trainable_variables)) "
   ]
  },
  {
   "cell_type": "markdown",
   "id": "f048d0ca-4282-4679-9b5e-fc75406a7c78",
   "metadata": {},
   "source": [
    "Son adım, tüm eğitimi tanımlayan bir fonksiyon tanımlamaktır. `tf.data.Dataset` nesnesi sayesinde verilerimizi kolayca yineleyebiliriz. Son fonksyion, oluşturulan tüm görüntüleri her 50. epokta bir `OUTPUT_DIR` değişkeninde tanımladığınız dizine kaydedecektir:"
   ]
  },
  {
   "cell_type": "code",
   "execution_count": 15,
   "id": "37c05c52-c3ee-42c2-9c66-74c601eff220",
   "metadata": {},
   "outputs": [],
   "source": [
    "# eğitim için biraz gürültü üretelim\n",
    "seed = tf.random.normal(shape = (1, 100), mean=0.0, stddev=1.0) \n",
    "\n",
    "def training(dataset, epochs):\n",
    "    for epoch in range(epochs):\n",
    "        start = time.time()\n",
    "        \n",
    "        for image_batch in dataset: \n",
    "            training_step(generator, discriminator, image_batch, batch_size = batch_size, k = 1)\n",
    "            \n",
    "        print ('Epok {} için geçen zaman {} sec'.format(epoch + 1, time.time()-start))\n",
    "        \n",
    "        #Her 50 epokta bir üretici tarafından oluşturulan sahte görüntüyü kaydedelim:\n",
    "        if (epoch % 50) == 0: \n",
    "            fake_image = tf.reshape(generator(seed), shape = (28, 28))\n",
    "            print(\"{}/{} epok, görüntü kaydedildi.\".format(epoch + 1, epochs))\n",
    "            #plt.imshow(fake_image, cmap = \"gray\")\n",
    "            plt.imsave(\"{}/{}.png\".format(output_dir, epoch + 1), fake_image, cmap = \"gray\")\n"
   ]
  },
  {
   "cell_type": "markdown",
   "id": "e149bbf4-209b-4582-8252-1584382c5ae6",
   "metadata": {},
   "source": [
    "Tüm fonksiyonlarımızı tanımladıktan sonra, artık Vanilla GAN algoritmamızı çalıştırmaya hazırız. Burada algoritmayı 300 epok defa çalıştırdık ancak dilerseniz, daha iyi sonuçlar elde edebilmek için, siz bu sayıyı büyütebilirsiniz."
   ]
  },
  {
   "cell_type": "code",
   "execution_count": 16,
   "id": "7c2d0239-21b8-4d0c-981d-deb4bc528d68",
   "metadata": {},
   "outputs": [
    {
     "name": "stderr",
     "output_type": "stream",
     "text": [
      "2022-01-18 20:49:39.713501: I tensorflow/compiler/mlir/mlir_graph_optimization_pass.cc:176] None of the MLIR Optimization Passes are enabled (registered 2)\n"
     ]
    },
    {
     "name": "stdout",
     "output_type": "stream",
     "text": [
      "Epok 1 için geçen zaman 3.7734439373016357 sec\n",
      "1/300 epok, görüntü kaydedildi.\n",
      "Epok 2 için geçen zaman 2.799484968185425 sec\n",
      "Epok 3 için geçen zaman 2.3485910892486572 sec\n",
      "Epok 4 için geçen zaman 2.2635040283203125 sec\n",
      "Epok 5 için geçen zaman 2.16536808013916 sec\n",
      "Epok 6 için geçen zaman 2.226936101913452 sec\n",
      "Epok 7 için geçen zaman 2.5798490047454834 sec\n",
      "Epok 8 için geçen zaman 2.2206039428710938 sec\n",
      "Epok 9 için geçen zaman 2.073057174682617 sec\n",
      "Epok 10 için geçen zaman 2.390544891357422 sec\n",
      "Epok 11 için geçen zaman 2.2875049114227295 sec\n",
      "Epok 12 için geçen zaman 2.0395760536193848 sec\n",
      "Epok 13 için geçen zaman 2.2514138221740723 sec\n",
      "Epok 14 için geçen zaman 2.144766092300415 sec\n",
      "Epok 15 için geçen zaman 2.6478261947631836 sec\n",
      "Epok 16 için geçen zaman 2.423539876937866 sec\n",
      "Epok 17 için geçen zaman 2.59405779838562 sec\n",
      "Epok 18 için geçen zaman 2.2333641052246094 sec\n",
      "Epok 19 için geçen zaman 2.212090015411377 sec\n",
      "Epok 20 için geçen zaman 2.2875640392303467 sec\n",
      "Epok 21 için geçen zaman 2.438382863998413 sec\n",
      "Epok 22 için geçen zaman 2.189171075820923 sec\n",
      "Epok 23 için geçen zaman 2.0295639038085938 sec\n",
      "Epok 24 için geçen zaman 1.9194340705871582 sec\n",
      "Epok 25 için geçen zaman 2.6847729682922363 sec\n",
      "Epok 26 için geçen zaman 2.398880958557129 sec\n",
      "Epok 27 için geçen zaman 2.4648051261901855 sec\n",
      "Epok 28 için geçen zaman 2.4118621349334717 sec\n",
      "Epok 29 için geçen zaman 2.483354091644287 sec\n",
      "Epok 30 için geçen zaman 2.408968210220337 sec\n",
      "Epok 31 için geçen zaman 2.754889965057373 sec\n",
      "Epok 32 için geçen zaman 2.2012648582458496 sec\n",
      "Epok 33 için geçen zaman 2.261059045791626 sec\n",
      "Epok 34 için geçen zaman 2.555352210998535 sec\n",
      "Epok 35 için geçen zaman 2.3108060359954834 sec\n",
      "Epok 36 için geçen zaman 2.253416061401367 sec\n",
      "Epok 37 için geçen zaman 2.618563175201416 sec\n",
      "Epok 38 için geçen zaman 2.4973371028900146 sec\n",
      "Epok 39 için geçen zaman 2.435410976409912 sec\n",
      "Epok 40 için geçen zaman 2.2046170234680176 sec\n",
      "Epok 41 için geçen zaman 2.4317610263824463 sec\n",
      "Epok 42 için geçen zaman 2.5784831047058105 sec\n",
      "Epok 43 için geçen zaman 2.3788013458251953 sec\n",
      "Epok 44 için geçen zaman 2.0943779945373535 sec\n",
      "Epok 45 için geçen zaman 2.106577157974243 sec\n",
      "Epok 46 için geçen zaman 2.653942108154297 sec\n",
      "Epok 47 için geçen zaman 2.3353381156921387 sec\n",
      "Epok 48 için geçen zaman 2.4718658924102783 sec\n",
      "Epok 49 için geçen zaman 2.2740631103515625 sec\n",
      "Epok 50 için geçen zaman 2.0580201148986816 sec\n",
      "Epok 51 için geçen zaman 1.9766650199890137 sec\n",
      "51/300 epok, görüntü kaydedildi.\n",
      "Epok 52 için geçen zaman 2.023911952972412 sec\n",
      "Epok 53 için geçen zaman 2.1587913036346436 sec\n",
      "Epok 54 için geçen zaman 2.1108789443969727 sec\n",
      "Epok 55 için geçen zaman 2.0372958183288574 sec\n",
      "Epok 56 için geçen zaman 2.3220348358154297 sec\n",
      "Epok 57 için geçen zaman 2.3381431102752686 sec\n",
      "Epok 58 için geçen zaman 2.1967411041259766 sec\n",
      "Epok 59 için geçen zaman 2.248518228530884 sec\n",
      "Epok 60 için geçen zaman 2.3529229164123535 sec\n",
      "Epok 61 için geçen zaman 2.3406429290771484 sec\n",
      "Epok 62 için geçen zaman 1.9553112983703613 sec\n",
      "Epok 63 için geçen zaman 2.0650570392608643 sec\n",
      "Epok 64 için geçen zaman 2.208721876144409 sec\n",
      "Epok 65 için geçen zaman 2.315279245376587 sec\n",
      "Epok 66 için geçen zaman 2.182159900665283 sec\n",
      "Epok 67 için geçen zaman 2.069196939468384 sec\n",
      "Epok 68 için geçen zaman 2.1750028133392334 sec\n",
      "Epok 69 için geçen zaman 2.1007080078125 sec\n",
      "Epok 70 için geçen zaman 2.3403539657592773 sec\n",
      "Epok 71 için geçen zaman 2.627113103866577 sec\n",
      "Epok 72 için geçen zaman 2.437476873397827 sec\n",
      "Epok 73 için geçen zaman 2.6729209423065186 sec\n",
      "Epok 74 için geçen zaman 2.7332239151000977 sec\n",
      "Epok 75 için geçen zaman 2.359527826309204 sec\n",
      "Epok 76 için geçen zaman 2.405853748321533 sec\n",
      "Epok 77 için geçen zaman 2.577877998352051 sec\n",
      "Epok 78 için geçen zaman 2.5855228900909424 sec\n",
      "Epok 79 için geçen zaman 2.3528671264648438 sec\n",
      "Epok 80 için geçen zaman 2.28546404838562 sec\n",
      "Epok 81 için geçen zaman 2.004586935043335 sec\n",
      "Epok 82 için geçen zaman 2.6877880096435547 sec\n",
      "Epok 83 için geçen zaman 2.5439538955688477 sec\n",
      "Epok 84 için geçen zaman 2.2563610076904297 sec\n",
      "Epok 85 için geçen zaman 2.5348851680755615 sec\n",
      "Epok 86 için geçen zaman 2.5635972023010254 sec\n",
      "Epok 87 için geçen zaman 2.069413900375366 sec\n",
      "Epok 88 için geçen zaman 2.1754307746887207 sec\n",
      "Epok 89 için geçen zaman 2.4250271320343018 sec\n",
      "Epok 90 için geçen zaman 2.0230610370635986 sec\n",
      "Epok 91 için geçen zaman 1.956986904144287 sec\n",
      "Epok 92 için geçen zaman 2.2476019859313965 sec\n",
      "Epok 93 için geçen zaman 2.1733617782592773 sec\n",
      "Epok 94 için geçen zaman 1.879633903503418 sec\n",
      "Epok 95 için geçen zaman 2.2332212924957275 sec\n",
      "Epok 96 için geçen zaman 2.078108787536621 sec\n",
      "Epok 97 için geçen zaman 2.3483409881591797 sec\n",
      "Epok 98 için geçen zaman 2.47406005859375 sec\n",
      "Epok 99 için geçen zaman 2.3258771896362305 sec\n",
      "Epok 100 için geçen zaman 2.397817850112915 sec\n",
      "Epok 101 için geçen zaman 2.5493900775909424 sec\n",
      "101/300 epok, görüntü kaydedildi.\n",
      "Epok 102 için geçen zaman 2.013184070587158 sec\n",
      "Epok 103 için geçen zaman 2.3709781169891357 sec\n",
      "Epok 104 için geçen zaman 2.2869820594787598 sec\n",
      "Epok 105 için geçen zaman 1.9747991561889648 sec\n",
      "Epok 106 için geçen zaman 2.0030131340026855 sec\n",
      "Epok 107 için geçen zaman 2.181694984436035 sec\n",
      "Epok 108 için geçen zaman 2.604016065597534 sec\n",
      "Epok 109 için geçen zaman 2.165626287460327 sec\n",
      "Epok 110 için geçen zaman 2.5894031524658203 sec\n",
      "Epok 111 için geçen zaman 2.4445910453796387 sec\n",
      "Epok 112 için geçen zaman 2.66937518119812 sec\n",
      "Epok 113 için geçen zaman 2.765570878982544 sec\n",
      "Epok 114 için geçen zaman 2.4853100776672363 sec\n",
      "Epok 115 için geçen zaman 2.3278520107269287 sec\n",
      "Epok 116 için geçen zaman 2.2415809631347656 sec\n",
      "Epok 117 için geçen zaman 2.3953959941864014 sec\n",
      "Epok 118 için geçen zaman 2.321354866027832 sec\n",
      "Epok 119 için geçen zaman 2.102874994277954 sec\n",
      "Epok 120 için geçen zaman 2.5311663150787354 sec\n",
      "Epok 121 için geçen zaman 2.4160590171813965 sec\n",
      "Epok 122 için geçen zaman 2.9495179653167725 sec\n",
      "Epok 123 için geçen zaman 2.6703381538391113 sec\n",
      "Epok 124 için geçen zaman 2.378183126449585 sec\n",
      "Epok 125 için geçen zaman 2.17267107963562 sec\n",
      "Epok 126 için geçen zaman 1.9769070148468018 sec\n",
      "Epok 127 için geçen zaman 1.9978837966918945 sec\n",
      "Epok 128 için geçen zaman 2.091704845428467 sec\n",
      "Epok 129 için geçen zaman 2.6614718437194824 sec\n",
      "Epok 130 için geçen zaman 2.6548149585723877 sec\n",
      "Epok 131 için geçen zaman 2.3399410247802734 sec\n",
      "Epok 132 için geçen zaman 2.36912202835083 sec\n",
      "Epok 133 için geçen zaman 2.65950608253479 sec\n",
      "Epok 134 için geçen zaman 2.0812110900878906 sec\n",
      "Epok 135 için geçen zaman 2.527358055114746 sec\n",
      "Epok 136 için geçen zaman 2.5359628200531006 sec\n",
      "Epok 137 için geçen zaman 2.3936498165130615 sec\n",
      "Epok 138 için geçen zaman 2.457284927368164 sec\n",
      "Epok 139 için geçen zaman 2.5709030628204346 sec\n",
      "Epok 140 için geçen zaman 2.2602860927581787 sec\n",
      "Epok 141 için geçen zaman 2.466371774673462 sec\n",
      "Epok 142 için geçen zaman 2.401944160461426 sec\n",
      "Epok 143 için geçen zaman 2.6670539379119873 sec\n",
      "Epok 144 için geçen zaman 2.051015853881836 sec\n",
      "Epok 145 için geçen zaman 2.3095600605010986 sec\n",
      "Epok 146 için geçen zaman 2.3254528045654297 sec\n",
      "Epok 147 için geçen zaman 2.3185489177703857 sec\n",
      "Epok 148 için geçen zaman 2.340095043182373 sec\n",
      "Epok 149 için geçen zaman 2.291769027709961 sec\n",
      "Epok 150 için geçen zaman 2.2220242023468018 sec\n",
      "Epok 151 için geçen zaman 2.137817144393921 sec\n",
      "151/300 epok, görüntü kaydedildi.\n",
      "Epok 152 için geçen zaman 2.050697088241577 sec\n",
      "Epok 153 için geçen zaman 2.137470006942749 sec\n",
      "Epok 154 için geçen zaman 2.299388885498047 sec\n",
      "Epok 155 için geçen zaman 2.6261372566223145 sec\n",
      "Epok 156 için geçen zaman 2.616351842880249 sec\n",
      "Epok 157 için geçen zaman 2.32478404045105 sec\n",
      "Epok 158 için geçen zaman 2.3710579872131348 sec\n",
      "Epok 159 için geçen zaman 2.3689961433410645 sec\n",
      "Epok 160 için geçen zaman 2.237661123275757 sec\n",
      "Epok 161 için geçen zaman 2.4479191303253174 sec\n",
      "Epok 162 için geçen zaman 2.4132771492004395 sec\n",
      "Epok 163 için geçen zaman 2.4525811672210693 sec\n",
      "Epok 164 için geçen zaman 2.319309949874878 sec\n",
      "Epok 165 için geçen zaman 2.0864288806915283 sec\n",
      "Epok 166 için geçen zaman 2.0759589672088623 sec\n",
      "Epok 167 için geçen zaman 2.3325231075286865 sec\n",
      "Epok 168 için geçen zaman 2.3568780422210693 sec\n",
      "Epok 169 için geçen zaman 2.6917121410369873 sec\n",
      "Epok 170 için geçen zaman 2.665498733520508 sec\n",
      "Epok 171 için geçen zaman 2.1915581226348877 sec\n",
      "Epok 172 için geçen zaman 2.266263246536255 sec\n",
      "Epok 173 için geçen zaman 2.1301920413970947 sec\n",
      "Epok 174 için geçen zaman 1.909195899963379 sec\n",
      "Epok 175 için geçen zaman 2.6254217624664307 sec\n",
      "Epok 176 için geçen zaman 2.4204158782958984 sec\n",
      "Epok 177 için geçen zaman 2.5160980224609375 sec\n",
      "Epok 178 için geçen zaman 2.463040590286255 sec\n",
      "Epok 179 için geçen zaman 2.115457057952881 sec\n",
      "Epok 180 için geçen zaman 2.303476095199585 sec\n",
      "Epok 181 için geçen zaman 2.2816948890686035 sec\n",
      "Epok 182 için geçen zaman 2.2997589111328125 sec\n",
      "Epok 183 için geçen zaman 2.222460985183716 sec\n",
      "Epok 184 için geçen zaman 2.5477209091186523 sec\n",
      "Epok 185 için geçen zaman 2.3332741260528564 sec\n",
      "Epok 186 için geçen zaman 2.19950008392334 sec\n",
      "Epok 187 için geçen zaman 2.2154479026794434 sec\n",
      "Epok 188 için geçen zaman 2.2761459350585938 sec\n",
      "Epok 189 için geçen zaman 2.342146873474121 sec\n",
      "Epok 190 için geçen zaman 2.5624518394470215 sec\n",
      "Epok 191 için geçen zaman 2.324603796005249 sec\n",
      "Epok 192 için geçen zaman 2.1565871238708496 sec\n",
      "Epok 193 için geçen zaman 2.498511791229248 sec\n",
      "Epok 194 için geçen zaman 2.055879831314087 sec\n",
      "Epok 195 için geçen zaman 2.246039867401123 sec\n",
      "Epok 196 için geçen zaman 2.0927610397338867 sec\n",
      "Epok 197 için geçen zaman 2.224806070327759 sec\n",
      "Epok 198 için geçen zaman 2.3200669288635254 sec\n",
      "Epok 199 için geçen zaman 2.352893114089966 sec\n",
      "Epok 200 için geçen zaman 2.2122559547424316 sec\n",
      "Epok 201 için geçen zaman 2.3224680423736572 sec\n",
      "201/300 epok, görüntü kaydedildi.\n",
      "Epok 202 için geçen zaman 2.263169050216675 sec\n",
      "Epok 203 için geçen zaman 2.3116588592529297 sec\n",
      "Epok 204 için geçen zaman 2.430251121520996 sec\n",
      "Epok 205 için geçen zaman 2.485854148864746 sec\n",
      "Epok 206 için geçen zaman 2.2845208644866943 sec\n",
      "Epok 207 için geçen zaman 2.3297879695892334 sec\n",
      "Epok 208 için geçen zaman 2.4022090435028076 sec\n",
      "Epok 209 için geçen zaman 2.3531839847564697 sec\n",
      "Epok 210 için geçen zaman 2.1114799976348877 sec\n",
      "Epok 211 için geçen zaman 2.2884268760681152 sec\n",
      "Epok 212 için geçen zaman 2.4589202404022217 sec\n",
      "Epok 213 için geçen zaman 2.344102144241333 sec\n",
      "Epok 214 için geçen zaman 2.4506149291992188 sec\n",
      "Epok 215 için geçen zaman 2.4189350605010986 sec\n",
      "Epok 216 için geçen zaman 2.274510145187378 sec\n",
      "Epok 217 için geçen zaman 2.0686440467834473 sec\n",
      "Epok 218 için geçen zaman 2.6304190158843994 sec\n",
      "Epok 219 için geçen zaman 2.2506191730499268 sec\n",
      "Epok 220 için geçen zaman 2.421339988708496 sec\n",
      "Epok 221 için geçen zaman 2.347014904022217 sec\n",
      "Epok 222 için geçen zaman 2.5388307571411133 sec\n",
      "Epok 223 için geçen zaman 2.3839571475982666 sec\n",
      "Epok 224 için geçen zaman 2.3402769565582275 sec\n",
      "Epok 225 için geçen zaman 2.425693988800049 sec\n",
      "Epok 226 için geçen zaman 2.2374191284179688 sec\n",
      "Epok 227 için geçen zaman 2.249626874923706 sec\n",
      "Epok 228 için geçen zaman 2.5491976737976074 sec\n",
      "Epok 229 için geçen zaman 2.3223469257354736 sec\n",
      "Epok 230 için geçen zaman 2.11977219581604 sec\n",
      "Epok 231 için geçen zaman 2.093996047973633 sec\n",
      "Epok 232 için geçen zaman 2.16778302192688 sec\n",
      "Epok 233 için geçen zaman 2.16082501411438 sec\n",
      "Epok 234 için geçen zaman 2.2468810081481934 sec\n",
      "Epok 235 için geçen zaman 2.1978328227996826 sec\n",
      "Epok 236 için geçen zaman 2.2807509899139404 sec\n",
      "Epok 237 için geçen zaman 2.1329538822174072 sec\n",
      "Epok 238 için geçen zaman 2.194845199584961 sec\n",
      "Epok 239 için geçen zaman 2.134382963180542 sec\n",
      "Epok 240 için geçen zaman 2.1980910301208496 sec\n",
      "Epok 241 için geçen zaman 2.490349054336548 sec\n",
      "Epok 242 için geçen zaman 2.701606035232544 sec\n",
      "Epok 243 için geçen zaman 2.335358142852783 sec\n",
      "Epok 244 için geçen zaman 2.6201353073120117 sec\n",
      "Epok 245 için geçen zaman 2.3636810779571533 sec\n",
      "Epok 246 için geçen zaman 2.639730215072632 sec\n",
      "Epok 247 için geçen zaman 2.260478973388672 sec\n",
      "Epok 248 için geçen zaman 2.2063820362091064 sec\n",
      "Epok 249 için geçen zaman 2.300048828125 sec\n",
      "Epok 250 için geçen zaman 2.1763601303100586 sec\n",
      "Epok 251 için geçen zaman 2.261730909347534 sec\n",
      "251/300 epok, görüntü kaydedildi.\n",
      "Epok 252 için geçen zaman 2.486077070236206 sec\n",
      "Epok 253 için geçen zaman 2.586970806121826 sec\n",
      "Epok 254 için geçen zaman 2.300567150115967 sec\n",
      "Epok 255 için geçen zaman 2.2179698944091797 sec\n",
      "Epok 256 için geçen zaman 2.2060458660125732 sec\n",
      "Epok 257 için geçen zaman 2.1916892528533936 sec\n",
      "Epok 258 için geçen zaman 2.1039140224456787 sec\n",
      "Epok 259 için geçen zaman 2.418355941772461 sec\n",
      "Epok 260 için geçen zaman 2.3207080364227295 sec\n",
      "Epok 261 için geçen zaman 2.253045082092285 sec\n",
      "Epok 262 için geçen zaman 2.1997272968292236 sec\n",
      "Epok 263 için geçen zaman 2.5948281288146973 sec\n",
      "Epok 264 için geçen zaman 2.1077427864074707 sec\n",
      "Epok 265 için geçen zaman 2.2928948402404785 sec\n",
      "Epok 266 için geçen zaman 2.417694091796875 sec\n",
      "Epok 267 için geçen zaman 2.2156190872192383 sec\n",
      "Epok 268 için geçen zaman 2.4934308528900146 sec\n",
      "Epok 269 için geçen zaman 2.718968152999878 sec\n",
      "Epok 270 için geçen zaman 2.2703802585601807 sec\n",
      "Epok 271 için geçen zaman 2.4807581901550293 sec\n",
      "Epok 272 için geçen zaman 2.494940996170044 sec\n",
      "Epok 273 için geçen zaman 2.349104166030884 sec\n",
      "Epok 274 için geçen zaman 2.553006172180176 sec\n",
      "Epok 275 için geçen zaman 2.4149820804595947 sec\n",
      "Epok 276 için geçen zaman 2.2452261447906494 sec\n",
      "Epok 277 için geçen zaman 2.3958609104156494 sec\n",
      "Epok 278 için geçen zaman 2.473849058151245 sec\n",
      "Epok 279 için geçen zaman 2.498178243637085 sec\n",
      "Epok 280 için geçen zaman 2.522660732269287 sec\n",
      "Epok 281 için geçen zaman 2.529721736907959 sec\n",
      "Epok 282 için geçen zaman 2.252930164337158 sec\n",
      "Epok 283 için geçen zaman 2.1275689601898193 sec\n",
      "Epok 284 için geçen zaman 2.2731847763061523 sec\n",
      "Epok 285 için geçen zaman 2.1384739875793457 sec\n",
      "Epok 286 için geçen zaman 2.528792142868042 sec\n",
      "Epok 287 için geçen zaman 2.6099021434783936 sec\n",
      "Epok 288 için geçen zaman 2.338499069213867 sec\n",
      "Epok 289 için geçen zaman 2.2363829612731934 sec\n",
      "Epok 290 için geçen zaman 2.311210870742798 sec\n",
      "Epok 291 için geçen zaman 2.400653123855591 sec\n",
      "Epok 292 için geçen zaman 2.2119388580322266 sec\n",
      "Epok 293 için geçen zaman 2.2816851139068604 sec\n",
      "Epok 294 için geçen zaman 2.546945095062256 sec\n",
      "Epok 295 için geçen zaman 2.42981219291687 sec\n",
      "Epok 296 için geçen zaman 2.398319959640503 sec\n",
      "Epok 297 için geçen zaman 2.3989040851593018 sec\n",
      "Epok 298 için geçen zaman 2.295867681503296 sec\n",
      "Epok 299 için geçen zaman 2.2671799659729004 sec\n",
      "Epok 300 için geçen zaman 2.2600152492523193 sec\n"
     ]
    }
   ],
   "source": [
    "training(dataset = train_dataset, epochs = 300)\n",
    "\n",
    "# Epok 1 için geçen zaman 3.7734439373016357 sec\n",
    "# 1/300 epok, görüntü kaydedildi.\n",
    "# Epok 2 için geçen zaman 2.799484968185425 sec\n",
    "# Epok 3 için geçen zaman 2.3485910892486572 sec\n",
    "# Epok 4 için geçen zaman 2.2635040283203125 sec\n",
    "# Epok 5 için geçen zaman 2.16536808013916 sec\n",
    "# Epok 6 için geçen zaman 2.226936101913452 sec\n",
    "# Epok 7 için geçen zaman 2.5798490047454834 sec\n",
    "# Epok 8 için geçen zaman 2.2206039428710938 sec\n",
    "# Epok 9 için geçen zaman 2.073057174682617 sec\n",
    "# \n",
    "# ...\n",
    "# Epok 297 için geçen zaman 2.3989040851593018 sec\n",
    "# Epok 298 için geçen zaman 2.295867681503296 sec\n",
    "# Epok 299 için geçen zaman 2.2671799659729004 sec\n",
    "# Epok 300 için geçen zaman 2.2600152492523193 sec"
   ]
  },
  {
   "cell_type": "code",
   "execution_count": null,
   "id": "92df3e17-1d16-433c-936f-ae3a65c1a0b5",
   "metadata": {},
   "outputs": [],
   "source": []
  }
 ],
 "metadata": {
  "kernelspec": {
   "display_name": "Python 3 (ipykernel)",
   "language": "python",
   "name": "python3"
  },
  "language_info": {
   "codemirror_mode": {
    "name": "ipython",
    "version": 3
   },
   "file_extension": ".py",
   "mimetype": "text/x-python",
   "name": "python",
   "nbconvert_exporter": "python",
   "pygments_lexer": "ipython3",
   "version": "3.8.12"
  }
 },
 "nbformat": 4,
 "nbformat_minor": 5
}
